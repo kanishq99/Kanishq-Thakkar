{
  "nbformat": 4,
  "nbformat_minor": 0,
  "metadata": {
    "colab": {
      "name": "Untitled0.ipynb",
      "provenance": [],
      "include_colab_link": true
    },
    "kernelspec": {
      "name": "python3",
      "display_name": "Python 3"
    }
  },
  "cells": [
    {
      "cell_type": "markdown",
      "metadata": {
        "id": "view-in-github",
        "colab_type": "text"
      },
      "source": [
        "<a href=\"https://colab.research.google.com/github/kanishq99/Kanishq-Thakkar/blob/master/Untitled0.ipynb\" target=\"_parent\"><img src=\"https://colab.research.google.com/assets/colab-badge.svg\" alt=\"Open In Colab\"/></a>"
      ]
    },
    {
      "cell_type": "code",
      "metadata": {
        "id": "1GD4YWowBHvK",
        "colab_type": "code",
        "colab": {}
      },
      "source": [
        "import numpy as np\n",
        "import pandas as pd"
      ],
      "execution_count": 0,
      "outputs": []
    },
    {
      "cell_type": "code",
      "metadata": {
        "id": "iMzGvmGrBQ9k",
        "colab_type": "code",
        "colab": {
          "base_uri": "https://localhost:8080/",
          "height": 51
        },
        "outputId": "200950da-6d0d-461e-a3e7-058cde11fc43"
      },
      "source": [
        "n = int(input('Enter nth position = '))\n",
        "primeno = [2,3]\n",
        "i=3\n",
        "if(0<n<3):\n",
        "    print('The Prime Number is =',primeno[n-1])\n",
        "elif(n>2):\n",
        "    while (True):\n",
        "        i+=1\n",
        "        prime = True\n",
        "        for j in range(2,int(i/2)+1):\n",
        "            if(i%j==0):\n",
        "                prime = False\n",
        "                break\n",
        "        if(prime==True):\n",
        "            primeno.append(i)\n",
        "        if(len(primeno)==n):\n",
        "            break\n",
        "    print('The Prime Number is =', primeno[n-1])\n",
        "else:\n",
        "    print('Please Enter A Valid Number!! :)')"
      ],
      "execution_count": 10,
      "outputs": [
        {
          "output_type": "stream",
          "text": [
            "Enter nth position = 80\n",
            "The Prime Number is = 409\n"
          ],
          "name": "stdout"
        }
      ]
    }
  ]
}